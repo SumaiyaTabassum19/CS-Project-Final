{
  "nbformat": 4,
  "nbformat_minor": 0,
  "metadata": {
    "colab": {
      "provenance": [],
      "mount_file_id": "11LYIp268ME4KrS8r44GEmdUtZ4Ndg29E",
      "authorship_tag": "ABX9TyOwJ/SDFnjFsxC90tI59bxX",
      "include_colab_link": true
    },
    "kernelspec": {
      "name": "python3",
      "display_name": "Python 3"
    },
    "language_info": {
      "name": "python"
    }
  },
  "cells": [
    {
      "cell_type": "markdown",
      "metadata": {
        "id": "view-in-github",
        "colab_type": "text"
      },
      "source": [
        "<a href=\"https://colab.research.google.com/github/SumaiyaTabassum19/CS-Project-Final/blob/main/Spam_Detection_Msg.ipynb\" target=\"_parent\"><img src=\"https://colab.research.google.com/assets/colab-badge.svg\" alt=\"Open In Colab\"/></a>"
      ]
    },
    {
      "cell_type": "code",
      "execution_count": 7,
      "metadata": {
        "colab": {
          "base_uri": "https://localhost:8080/"
        },
        "id": "CGH6se2eGthM",
        "outputId": "acc00a53-d445-49a6-daf9-29744d68fe4b"
      },
      "outputs": [
        {
          "output_type": "stream",
          "name": "stdout",
          "text": [
            "     Category                                            Message\n",
            "0         ham  Go until jurong point, crazy.. Available only ...\n",
            "1         ham                      Ok lar... Joking wif u oni...\n",
            "2        spam  Free entry in 2 a wkly comp to win FA Cup fina...\n",
            "3         ham  U dun say so early hor... U c already then say...\n",
            "4         ham  Nah I don't think he goes to usf, he lives aro...\n",
            "...       ...                                                ...\n",
            "5567     spam  This is the 2nd time we have tried 2 contact u...\n",
            "5568      ham               Will ü b going to esplanade fr home?\n",
            "5569      ham  Pity, * was in mood for that. So...any other s...\n",
            "5570      ham  The guy did some bitching but I acted like i'd...\n",
            "5571      ham                         Rofl. Its true to its name\n",
            "\n",
            "[5572 rows x 2 columns]\n",
            "0       Go until jurong point, crazy.. Available only ...\n",
            "1                           Ok lar... Joking wif u oni...\n",
            "2       Free entry in 2 a wkly comp to win FA Cup fina...\n",
            "3       U dun say so early hor... U c already then say...\n",
            "4       Nah I don't think he goes to usf, he lives aro...\n",
            "                              ...                        \n",
            "5567    This is the 2nd time we have tried 2 contact u...\n",
            "5568                 Will ü b going to esplanade fr home?\n",
            "5569    Pity, * was in mood for that. So...any other s...\n",
            "5570    The guy did some bitching but I acted like i'd...\n",
            "5571                           Rofl. Its true to its name\n",
            "Name: Message, Length: 5572, dtype: object\n",
            "0       1\n",
            "1       1\n",
            "2       0\n",
            "3       1\n",
            "4       1\n",
            "       ..\n",
            "5567    0\n",
            "5568    1\n",
            "5569    1\n",
            "5570    1\n",
            "5571    1\n",
            "Name: Category, Length: 5572, dtype: object\n",
            "(5572,)\n",
            "(4457,)\n",
            "(1115,)\n",
            "(5572,)\n",
            "(4457,)\n",
            "(1115,)\n",
            "Acc on training data:  0.9670181736594121\n",
            "Acc on test data:  0.9659192825112107\n",
            "[0]\n",
            "Spam\n"
          ]
        }
      ],
      "source": [
        "import numpy as np\n",
        "import pandas as pd\n",
        "from sklearn.model_selection import train_test_split\n",
        "from sklearn.feature_extraction.text import TfidfVectorizer\n",
        "from sklearn.linear_model import LogisticRegression\n",
        "from sklearn.metrics import accuracy_score\n",
        "\n",
        "df = pd.read_csv('/content/drive/MyDrive/dataset/mail_data.csv')\n",
        "print(df)\n",
        "\n",
        "data = df.where(pd.notnull(df), '')\n",
        "data.head(10)\n",
        "data.loc[data['Category'] == 'spam', 'Category'] = 0\n",
        "data.loc[data['Category'] == 'ham', 'Category'] = 1\n",
        "x = data['Message']\n",
        "y = data['Category']\n",
        "print(x)\n",
        "print(y)\n",
        "\n",
        "def dataset():\n",
        "    x_train, x_test, y_train, y_test = train_test_split(x, y, test_size=0.2, random_state=3)\n",
        "    print(x.shape)\n",
        "    print(x_train.shape)\n",
        "    print(x_test.shape)\n",
        "    print(y.shape)\n",
        "    print(y_train.shape)\n",
        "    print(y_test.shape)\n",
        "\n",
        "    feature_extraction = TfidfVectorizer(min_df=1, stop_words='english', lowercase=True)\n",
        "    x_train_features = feature_extraction.fit_transform(x_train)\n",
        "    x_test_features = feature_extraction.transform(x_test)\n",
        "\n",
        "    y_train = y_train.astype(int)\n",
        "    y_test = y_test.astype(int)\n",
        "\n",
        "    model = LogisticRegression()\n",
        "    model.fit(x_train_features, y_train)\n",
        "\n",
        "    prediction_on_training_data = model.predict(x_train_features)\n",
        "    accuracy_on_training_data = accuracy_score(y_train, prediction_on_training_data)\n",
        "    print(\"Acc on training data: \", accuracy_on_training_data)\n",
        "\n",
        "    prediction_on_test_data = model.predict(x_test_features)\n",
        "    accuracy_on_test_data = accuracy_score(y_test, prediction_on_test_data)\n",
        "    print(\"Acc on test data: \", accuracy_on_test_data)\n",
        "\n",
        "    input_your_mail = [\"Free entry in 2 a wkly comp to win FA Cup final tkts 21st May 2005. Text FA to 87121 to receive entry question(std txt rate)T&C's apply 08452810075over18's\"]\n",
        "    input_data_features = feature_extraction.transform(input_your_mail)\n",
        "    prediction = model.predict(input_data_features)\n",
        "    print(prediction)\n",
        "    if(prediction[0]==1):\n",
        "        print(\"Ham Mail\")\n",
        "    else:\n",
        "        print(\"Spam\")\n",
        "dataset()"
      ]
    }
  ]
}